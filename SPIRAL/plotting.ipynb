{
 "cells": [
  {
   "cell_type": "code",
   "execution_count": 4,
   "metadata": {},
   "outputs": [],
   "source": [
    "import numpy as np\n",
    "import matplotlib.pyplot as plt\n",
    "import matplotlib.cm as cm\n",
    "import matplotlib as mpl\n",
    "import IPython\n",
    "from low_rank_fine_tuned import *\n",
    "import IPython"
   ]
  },
  {
   "cell_type": "code",
   "execution_count": 2,
   "metadata": {},
   "outputs": [],
   "source": [
    "def test(W):\n",
    "    Win = np.loadtxt(open(\"data/first_weight.txt\", \"rb\"), dtype='float32', delimiter=\",\", skiprows=0)\n",
    "    Wtest = W\n",
    "    Wout = np.loadtxt(open(\"data/last_weight.txt\", \"rb\"), dtype='float32', delimiter=\",\", skiprows=0)\n",
    "    Bin = np.loadtxt(open(\"data/first_bias.txt\", \"rb\"), dtype='float32', delimiter=\",\", skiprows=0)\n",
    "    Btest = np.loadtxt(open(\"data/Bias.txt\", \"rb\"), dtype='float32', delimiter=\",\", skiprows=0)\n",
    "    Bout = np.loadtxt(open(\"data/last_bias.txt\", \"rb\"), dtype='float32', delimiter=\",\", skiprows=0)\n",
    "\n",
    "    train_x = np.loadtxt(open(\"data/train_x.txt\", \"rb\"), dtype='float32', delimiter=\",\", skiprows=0)\n",
    "    train_y = np.loadtxt(open(\"data/train_y.txt\", \"rb\"), dtype='float32', delimiter=\",\", skiprows=0)\n",
    "    test_x = np.loadtxt(open(\"data/test_x.txt\", \"rb\"), dtype='float32', delimiter=\",\", skiprows=0)\n",
    "    test_y = np.loadtxt(open(\"data/test_y.txt\", \"rb\"), dtype='float32', delimiter=\",\", skiprows=0)\n",
    "\n",
    "    #train set\n",
    "    temp11_train = np.matmul(train_x, Win)\n",
    "    temp12_train = temp11_train + Bin\n",
    "    temp13_train = np.maximum(temp12_train, 0)\n",
    "\n",
    "    temp21_train = np.matmul(temp13_train, Wtest)\n",
    "    temp22_train = temp21_train + Btest\n",
    "    temp23_train = np.maximum(temp22_train, 0)\n",
    "\n",
    "    temp31_train = np.matmul(temp23_train, Wout)\n",
    "    temp32_train = temp31_train + Bout\n",
    "    output_train = np.argmax(temp32_train, 1)\n",
    "\n",
    "\n",
    "    correctoutput_train = np.argmax(train_y, 1)\n",
    "    train_result = np.equal(output_train, correctoutput_train)\n",
    "\n",
    "    # test set\n",
    "    temp11_test = np.matmul(test_x, Win)\n",
    "    temp12_test = temp11_test + Bin\n",
    "    temp13_test = np.maximum(temp12_test, 0)\n",
    "\n",
    "    temp21_test = np.matmul(temp13_test, Wtest)\n",
    "    temp22_test = temp21_test + Btest\n",
    "    temp23_test = np.maximum(temp22_test, 0)\n",
    "\n",
    "    temp31_test = np.matmul(temp23_test, Wout)\n",
    "    temp32_test = temp31_test + Bout\n",
    "    output_test = np.argmax(temp32_test, 1)\n",
    "\n",
    "    correctoutput_test = np.argmax(test_y, 1)\n",
    "    test_result = np.equal(output_test, correctoutput_test)\n",
    "    \n",
    "    return sum(train_result)/len(train_result) , sum(test_result)/len(test_result)\n",
    "\n",
    "    \n",
    "def get_rank(W, thr):\n",
    "    [Utemp,S,V] = np.linalg.svd(W)\n",
    "    rank = np.count_nonzero(S > thr)\n",
    "    return rank\n",
    "    \n"
   ]
  },
  {
   "cell_type": "code",
   "execution_count": 3,
   "metadata": {},
   "outputs": [],
   "source": [
    "X = np.loadtxt(open(\"data/train_x.txt\", \"rb\"), dtype='float32', delimiter=\",\", skiprows=0)\n",
    "Y = np.loadtxt(open(\"data/train_y.txt\", \"rb\"), dtype='float32', delimiter=\",\", skiprows=0)\n",
    "W1 = np.loadtxt(open(\"data/first_weight.txt\", \"rb\"), dtype='float32', delimiter=\",\", skiprows=0)\n",
    "W2 = np.loadtxt(open(\"data/Weight.txt\", \"rb\"), dtype='float32', delimiter=\",\", skiprows=0)\n",
    "W3 = np.loadtxt(open(\"data/last_weight.txt\", \"rb\"), dtype='float32', delimiter=\",\", skiprows=0)\n",
    "b1 = np.loadtxt(open(\"data/first_bias.txt\", \"rb\"), dtype='float32', delimiter=\",\", skiprows=0)\n",
    "#b1 = b1.reshape(b1.shape[0],1)\n",
    "b2 = np.loadtxt(open(\"data/Bias.txt\", \"rb\"), dtype='float32', delimiter=\",\", skiprows=0)\n",
    "#b2 = b2.reshape(b2.shape[0],1)\n",
    "b3 = np.loadtxt(open(\"data/last_bias.txt\", \"rb\"), dtype='float32', delimiter=\",\", skiprows=0)"
   ]
  },
  {
   "cell_type": "code",
   "execution_count": 4,
   "metadata": {},
   "outputs": [],
   "source": [
    "orig_train_Acc, orig_test_acc = test(W2)\n",
    "# total number of parameters\n",
    "orig_size = 2*80 + 80*80 + 2*80 + 80 + 80 + 2"
   ]
  },
  {
   "cell_type": "code",
   "execution_count": 5,
   "metadata": {},
   "outputs": [],
   "source": [
    "#LR_files = [\"data/Low_rank_N_100_Eps_100.txt\", \"data/Low_rank_N_100_Eps_100.txt\", \"data/Low_rank_N_100_Eps_50.txt\", \"data/Low_rank_N_100_Eps_20.txt\", \"data/Low_rank_N_100_Eps_10.txt\", \"data/Low_rank_N_100_Eps_1.txt\", \"data/Low_rank_N_100_Eps_01.txt\",\"data/Low_rank_N_100_Eps_001.txt\", \"data/Low_rank_N_100_Eps_0001.txt\", \"data/Low_rank_N_100_Eps_0001.txt\", \"data/Low_rank_N_100_Eps_1e-05.txt\", \"data/Low_rank_N_100_Eps_1e-10.txt\", \"data/Low_rank_N_100_Eps_1e-15.txt\", \"data/Low_rank_N_100_Eps_00.txt\"]\n",
    "LR_files = [\"data/Low_rank_N_200_Eps_200.txt\", \"data/Low_rank_N_200_Eps_100.txt\", \"data/Low_rank_N_200_Eps_50.txt\", \"data/Low_rank_N_200_Eps_20.txt\", \"data/Low_rank_N_200_Eps_10.txt\", \"data/Low_rank_N_200_Eps_1.txt\",\"data/Low_rank_N_200_Eps_001.txt\", \"data/Low_rank_N_200_Eps_0001.txt\", \"data/Low_rank_N_200_Eps_00001.txt\",\"data/Low_rank_N_200_Eps_1e-05.txt\",\"data/Low_rank_N_200_Eps_1e-10.txt\",\"data/Low_rank_N_200_Eps_1e-15.txt\",\"data/Low_rank_N_200_Eps_00.txt\"]\n",
    "LR_test_acc = []\n",
    "LR_train_acc = []\n",
    "LR_Rank = []\n",
    "LR_size = []\n",
    "LR_valid_file = []\n",
    "for file in LR_files:\n",
    "    W=np.loadtxt(open(file, \"rb\"), dtype='float32', delimiter=\",\", skiprows=0)\n",
    "    train_acc, test_acc = test(W)\n",
    "    rank = get_rank(W, 0.001)\n",
    "    \n",
    "    if rank not in LR_Rank:\n",
    "        LR_test_acc.append(test_acc)\n",
    "        LR_train_acc.append(train_acc)\n",
    "        LR_Rank.append(rank)\n",
    "        LR_size.append(2*80 + 160*rank + 2*80 + 80 + 80 + 2)\n",
    "        LR_valid_file.append(file)\n",
    "#     else:\n",
    "#         IPython.embed()\n",
    "#         idx = LR_Rank.index(rank)\n",
    "#         if LR_train_acc[idx] < train_acc:\n",
    "#             LR_train_acc[idx] = train_acc\n",
    "#             LR_test_acc[idx] = test_acc\n",
    "#             LR_valid_file.append(file)"
   ]
  },
  {
   "cell_type": "code",
   "execution_count": 6,
   "metadata": {},
   "outputs": [
    {
     "data": {
      "text/plain": [
       "[7, 8, 10, 13, 16, 20, 22]"
      ]
     },
     "execution_count": 6,
     "metadata": {},
     "output_type": "execute_result"
    }
   ],
   "source": [
    "LR_Rank"
   ]
  },
  {
   "cell_type": "code",
   "execution_count": 7,
   "metadata": {},
   "outputs": [
    {
     "name": "stdout",
     "output_type": "stream",
     "text": [
      "data/Low_rank_N_200_Eps_200.txt\n",
      "WARNING:tensorflow:From /home/dimitris/Dropbox/Neural_Network_Compression/Code/Spiral/Spiral_Swayambhoo/low_rank_fine_tuned.py:76: The name tf.placeholder is deprecated. Please use tf.compat.v1.placeholder instead.\n",
      "\n",
      "WARNING:tensorflow:From /home/dimitris/Dropbox/Neural_Network_Compression/Code/Spiral/Spiral_Swayambhoo/low_rank_fine_tuned.py:109: The name tf.train.AdamOptimizer is deprecated. Please use tf.compat.v1.train.AdamOptimizer instead.\n",
      "\n",
      "WARNING:tensorflow:From /home/dimitris/Dropbox/Neural_Network_Compression/Code/Spiral/Spiral_Swayambhoo/low_rank_fine_tuned.py:117: The name tf.global_variables_initializer is deprecated. Please use tf.compat.v1.global_variables_initializer instead.\n",
      "\n",
      "WARNING:tensorflow:From /home/dimitris/Dropbox/Neural_Network_Compression/Code/Spiral/Spiral_Swayambhoo/low_rank_fine_tuned.py:120: The name tf.Session is deprecated. Please use tf.compat.v1.Session instead.\n",
      "\n",
      "7\n",
      "data/Low_rank_N_200_Eps_100.txt\n",
      "8\n",
      "data/Low_rank_N_200_Eps_50.txt\n",
      "10\n",
      "data/Low_rank_N_200_Eps_20.txt\n",
      "13\n",
      "data/Low_rank_N_200_Eps_10.txt\n",
      "16\n",
      "data/Low_rank_N_200_Eps_1.txt\n",
      "20\n",
      "data/Low_rank_N_200_Eps_001.txt\n",
      "22\n",
      "data/Low_rank_N_200_Eps_200.txt\n",
      "7\n",
      "data/Low_rank_N_200_Eps_100.txt\n",
      "8\n",
      "data/Low_rank_N_200_Eps_50.txt\n",
      "10\n",
      "data/Low_rank_N_200_Eps_20.txt\n",
      "13\n",
      "data/Low_rank_N_200_Eps_10.txt\n",
      "16\n",
      "data/Low_rank_N_200_Eps_1.txt\n",
      "20\n",
      "data/Low_rank_N_200_Eps_001.txt\n",
      "22\n",
      "data/Low_rank_N_200_Eps_200.txt\n",
      "7\n",
      "data/Low_rank_N_200_Eps_100.txt\n",
      "8\n",
      "data/Low_rank_N_200_Eps_50.txt\n",
      "10\n",
      "data/Low_rank_N_200_Eps_20.txt\n",
      "13\n",
      "data/Low_rank_N_200_Eps_10.txt\n",
      "16\n",
      "data/Low_rank_N_200_Eps_1.txt\n",
      "20\n",
      "data/Low_rank_N_200_Eps_001.txt\n",
      "22\n",
      "data/Low_rank_N_200_Eps_200.txt\n",
      "7\n",
      "data/Low_rank_N_200_Eps_100.txt\n",
      "8\n",
      "data/Low_rank_N_200_Eps_50.txt\n",
      "10\n",
      "data/Low_rank_N_200_Eps_20.txt\n",
      "13\n",
      "data/Low_rank_N_200_Eps_10.txt\n",
      "16\n",
      "data/Low_rank_N_200_Eps_1.txt\n",
      "20\n",
      "data/Low_rank_N_200_Eps_001.txt\n",
      "22\n"
     ]
    }
   ],
   "source": [
    "LR_FT_test_acc_total = []\n",
    "LR_FT_train_acc_total = []\n",
    "LR_FT_Rank_total = []\n",
    "LR_FT_size_total = []\n",
    "\n",
    "\n",
    "N = 100\n",
    "Epochs = [5,10,15,20]\n",
    "\n",
    "for epochs in Epochs:\n",
    "    LR_FT_test_acc = []\n",
    "    LR_FT_train_acc = []\n",
    "    #LR_FT_Rank = []\n",
    "    LR_FT_size = []\n",
    "\n",
    "    cnt = 0\n",
    "    for file in LR_valid_file:\n",
    "        print(file)\n",
    "        W = np.loadtxt(file, dtype='float32', delimiter=\",\", skiprows=0)\n",
    "        rank = get_rank(W, 0.001)\n",
    "        train_acc, test_acc = fine_tune(N, file, epochs, rank)\n",
    "        print(rank)\n",
    "        cnt += 1\n",
    "\n",
    "\n",
    "        LR_FT_test_acc.append(test_acc)\n",
    "        LR_FT_train_acc.append(train_acc)\n",
    "        LR_FT_size.append(2*80 + 160*rank + 2*80 + 80 + 80 + 2)\n",
    "    \n",
    "       \n",
    "    LR_FT_test_acc_total.append(LR_FT_test_acc)\n",
    "    LR_FT_train_acc_total.append(LR_FT_train_acc)\n",
    "    #LR_FT_Rank_total.append()\n",
    "    #LR_FT_size_total.append()\n"
   ]
  },
  {
   "cell_type": "code",
   "execution_count": 8,
   "metadata": {},
   "outputs": [],
   "source": [
    "W = np.loadtxt(open(\"data/Weight.txt\", \"rb\"), dtype='float32', delimiter=\",\", skiprows=0)\n",
    "NLR_test_acc = []\n",
    "NLR_train_acc = [] \n",
    "NLR_Rank = [7, 8, 10, 11, 16, 21, 23]\n",
    "NLR_size = [2*80 + 160*rank + 2*80 + 80 + 80 + 2 for rank in LR_Rank]\n",
    "[U,S,Vt] = np.linalg.svd(W)\n",
    "\n",
    "for rank in LR_Rank:\n",
    "    W_hat = np.dot(U[:,:rank]*S[:rank], Vt[:rank,:])\n",
    "    train_acc, test_acc = test(W_hat)\n",
    "    NLR_test_acc.append(test_acc)\n",
    "    NLR_train_acc.append(train_acc)\n",
    "    #W_NLR = {'W1':W1, 'W2':W_hat, 'W3':W3}\n",
    "    #b_NLR = {'b1':b1, 'b2':b2, 'b3':b3}\n",
    "    #plot_boundaries(X, W_NLR, b_NLR, True,'plot_boundary_NLR_rank_'+str(rank), 'Low Rank = '+str(rank))"
   ]
  },
  {
   "cell_type": "code",
   "execution_count": 9,
   "metadata": {},
   "outputs": [
    {
     "data": {
      "text/plain": [
       "[1602, 1762, 2082, 2562, 3042, 3682, 4002]"
      ]
     },
     "execution_count": 9,
     "metadata": {},
     "output_type": "execute_result"
    }
   ],
   "source": [
    "NLR_size"
   ]
  },
  {
   "cell_type": "code",
   "execution_count": 10,
   "metadata": {},
   "outputs": [
    {
     "data": {
      "image/png": "[encoded data removed]",
      "text/plain": [
       "<Figure size 432x288 with 1 Axes>"
      ]
     },
     "metadata": {
      "needs_background": "light"
     },
     "output_type": "display_data"
    }
   ],
   "source": [
    "plt.rcParams.update({\n",
    "    \"text.usetex\": True})\n",
    "\n",
    "NLR_test_acc = np.array(NLR_test_acc)\n",
    "NLR_size = np.array(NLR_size)\n",
    "LR_test_acc = np.array(LR_test_acc)\n",
    "LR_size = np.array(LR_size)\n",
    "# LDR_test_acc = np.array(LDR_test_acc)\n",
    "# LDR_size = np.array(LDR_size)\n",
    "\n",
    "# plt.plot(LDR_size*100/orig_size, LDR_test_acc/orig_test_acc,'r-*')\n",
    "\n",
    "plt.plot(LR_size*100/orig_size, LR_test_acc/orig_test_acc,'b-o', label=r'\\textrm{Constrained Low Rank}')\n",
    "plt.plot(NLR_size*100/orig_size, NLR_test_acc/orig_test_acc,'g--s', label=r'\\textrm{Low Rank}')\n",
    "\n",
    "plt.plot(NLR_size*100/orig_size, LR_FT_test_acc_total[0]/orig_test_acc,'r--s', label=r'\\textrm{Low Rank (Ep = 5)}')\n",
    "plt.plot(NLR_size*100/orig_size, LR_FT_test_acc_total[1]/orig_test_acc,'y--s', label=r'\\textrm{Low Rank (Ep = 10)}')\n",
    "# plt.plot(NLR_size*100/orig_size, LR_FT_test_acc_total[2]/orig_test_acc,'c--s', label=r'\\textrm{Low Rank (Ep = 15))}')\n",
    "# plt.plot(NLR_size*100/orig_size, LR_FT_test_acc_total[3]/orig_test_acc,'k--s', label=r'\\textrm{Low Rank (Ep = 20))}')\n",
    "\n",
    "\n",
    "plt.xlabel(r'$\\textrm{Size Percentage}$', fontsize='x-large')\n",
    "plt.ylabel(r'$\\frac{\\textrm{Accuracy Compressed}}{\\textrm{Accuracy Original}}$',fontsize='x-large') \n",
    "plt.legend(loc=4)\n",
    "\n",
    "plt.title(r'\\textrm{Spiral Dataset}', fontsize='x-large')\n",
    "plt.autoscale()\n",
    "plt.ylim([0.55, 1.04])\n",
    "plt.tight_layout()\n",
    "plt.savefig('Spiral_N_200_Compression_plot_FT')"
   ]
  },
  {
   "cell_type": "code",
   "execution_count": 6,
   "metadata": {},
   "outputs": [],
   "source": [
    "Net_trim_files = ['data/Net_trim_N_200_Eps_00.txt','data/Net_trim_N_200_Eps_1.txt','data/Net_trim_N_200_Eps_001.txt','data/Net_trim_N_200_Eps_00001.txt','data/Net_trim_N_200_Eps_1e-05.txt','data/Net_trim_N_200_Eps_1e-10.txt','data/Net_trim_N_200_Eps_1e-15.txt']\n"
   ]
  },
  {
   "cell_type": "code",
   "execution_count": 7,
   "metadata": {},
   "outputs": [
    {
     "name": "stdout",
     "output_type": "stream",
     "text": [
      "3144\n",
      "1847\n",
      "2216\n",
      "3137\n",
      "3143\n",
      "3144\n",
      "3144\n"
     ]
    }
   ],
   "source": [
    "for file in Net_trim_files:\n",
    "    W=np.loadtxt(open(file, \"rb\"), dtype='float32', delimiter=\",\", skiprows=0)\n",
    "    nnz = np.count_nonzero(W>0.000001)\n",
    "    print(nnz)"
   ]
  },
  {
   "cell_type": "code",
   "execution_count": null,
   "metadata": {},
   "outputs": [],
   "source": []
  }
 ],
 "metadata": {
  "kernelspec": {
   "display_name": "Python 3",
   "language": "python",
   "name": "python3"
  },
  "language_info": {
   "codemirror_mode": {
    "name": "ipython",
    "version": 3
   },
   "file_extension": ".py",
   "mimetype": "text/x-python",
   "name": "python",
   "nbconvert_exporter": "python",
   "pygments_lexer": "ipython3",
   "version": "3.6.10"
  }
 },
 "nbformat": 4,
 "nbformat_minor": 4
}
